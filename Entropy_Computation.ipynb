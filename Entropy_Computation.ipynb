{
 "cells": [
  {
   "cell_type": "code",
   "execution_count": 11,
   "metadata": {},
   "outputs": [
    {
     "name": "stdout",
     "output_type": "stream",
     "text": [
      "starting running .....\n",
      "matrix dimensions:  100 10\n",
      "matrix dimensions:  200 20\n",
      "matrix dimensions:  300 30\n",
      "matrix dimensions:  400 40\n",
      "matrix dimensions:  500 50\n",
      "matrix dimensions:  600 60\n",
      "matrix dimensions:  700 70\n",
      "matrix dimensions:  800 80\n",
      "matrix dimensions:  900 90\n",
      "matrix dimensions:  1000 100\n"
     ]
    },
    {
     "data": {
      "image/png": "[encoded data removed]",
      "text/plain": [
       "<Figure size 432x288 with 1 Axes>"
      ]
     },
     "metadata": {
      "needs_background": "light"
     },
     "output_type": "display_data"
    },
    {
     "name": "stdout",
     "output_type": "stream",
     "text": [
      "result is written to CompareEntropyFig.pdf\n"
     ]
    }
   ],
   "source": [
    "import numpy as np\n",
    "import time\n",
    "import scipy as sc\n",
    "from scipy.stats import entropy\n",
    "import itertools\n",
    "from collections import Counter\n",
    "\n",
    "def compute_entropy_loop(X):\n",
    "    totals = Counter(i for i in list(itertools.chain.from_iterable(X)))\n",
    "    list_counter = []\n",
    "    values = totals.values()\n",
    "    for value in values:\n",
    "        list_counter.append(value)\n",
    "        return entropy(list_counter, base=2)\n",
    "\n",
    "\n",
    "def compute_entropy_cool(X):\n",
    "    # use numpy functions, avoid using loops at all\n",
    "    n_labels = len(X)\n",
    "    value,counts = np.unique(X, return_counts=True)\n",
    "    probs = counts / n_labels\n",
    "    return entropy(counts, base= None)\n",
    "\n",
    "print('starting running .....')\n",
    "np.random.seed(100)\n",
    "params = range(10,101,10)   # different param setting\n",
    "nparams = len(params)       # number of different parameters\n",
    "\n",
    "perf_loop = np.zeros([10,nparams])  # 10 trials = 10 rows, each parameter is a column\n",
    "perf_cool = np.zeros([10,nparams])\n",
    "\n",
    "counter = 0\n",
    "\n",
    "for ncols in params:\n",
    "    nrows = ncols * 10\n",
    "\n",
    "    print(\"matrix dimensions: \", nrows, ncols)\n",
    "\n",
    "    for i in range(10):\n",
    "        X = np.random.randint(0,20,[nrows,ncols])   # random matrix\n",
    "                                                    # you need to use random.rand(...) for float matrix\n",
    "\n",
    "        st = time.time()\n",
    "        entropy_loop = compute_entropy_loop(X)\n",
    "        et = time.time()\n",
    "        perf_loop[i,counter] = et - st              # time difference\n",
    "\n",
    "        st = time.time()\n",
    "        entropy_cool = compute_entropy_cool(X)\n",
    "        et = time.time()\n",
    "        perf_cool[i,counter] = et - st\n",
    "\n",
    "        #assert np.isclose(entropy_loop, entropy_cool, atol=1e-06)\n",
    "\n",
    "    counter = counter + 1\n",
    "\n",
    "mean_loop = np.mean(perf_loop, axis = 0)    # mean time for each parameter setting (over 10 trials)\n",
    "mean_cool = np.mean(perf_cool, axis = 0)\n",
    "\n",
    "std_loop = np.std(perf_loop, axis = 0)      # standard deviation\n",
    "std_cool = np.std(perf_cool, axis = 0)\n",
    "\n",
    "import matplotlib.pyplot as plt\n",
    "plt.errorbar(params, mean_loop[0:nparams], yerr=std_loop[0:nparams], color='red',label = 'Loop Solution')\n",
    "plt.errorbar(params, mean_cool[0:nparams], yerr=std_cool[0:nparams], color='blue', label = 'Matrix Solution')\n",
    "plt.xlabel('Number of Cols of the Matrix')\n",
    "plt.ylabel('Running Time (Seconds)')\n",
    "plt.legend()\n",
    "plt.savefig('CompareEntropyFig.pdf')\n",
    "plt.show()    # uncomment this if you want to see it right way\n",
    "\n",
    "print(\"result is written to CompareEntropyFig.pdf\")\n"
   ]
  }
 ],
 "metadata": {
  "kernelspec": {
   "display_name": "Python 3",
   "language": "python",
   "name": "python3"
  },
  "language_info": {
   "codemirror_mode": {
    "name": "ipython",
    "version": 3
   },
   "file_extension": ".py",
   "mimetype": "text/x-python",
   "name": "python",
   "nbconvert_exporter": "python",
   "pygments_lexer": "ipython3",
   "version": "3.7.1"
  }
 },
 "nbformat": 4,
 "nbformat_minor": 2
}
